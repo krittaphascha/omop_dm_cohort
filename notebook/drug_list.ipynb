{
 "cells": [
  {
   "cell_type": "code",
   "execution_count": 1,
   "metadata": {},
   "outputs": [
    {
     "name": "stderr",
     "output_type": "stream",
     "text": [
      "C:\\Users\\krittaphas.chi\\AppData\\Local\\Temp\\ipykernel_24264\\4080736814.py:1: DeprecationWarning: \n",
      "Pyarrow will become a required dependency of pandas in the next major release of pandas (pandas 3.0),\n",
      "(to allow more performant data types, such as the Arrow string type, and better interoperability with other libraries)\n",
      "but was not found to be installed on your system.\n",
      "If this would cause problems for you,\n",
      "please provide us feedback at https://github.com/pandas-dev/pandas/issues/54466\n",
      "        \n",
      "  import pandas as pd\n"
     ]
    }
   ],
   "source": [
    "import pandas as pd"
   ]
  },
  {
   "cell_type": "code",
   "execution_count": 2,
   "metadata": {},
   "outputs": [],
   "source": [
    "df = pd.read_csv('../.dump/Drug Lists_data.csv')"
   ]
  },
  {
   "cell_type": "code",
   "execution_count": 4,
   "metadata": {},
   "outputs": [],
   "source": [
    "df = df[['GENERIC_NAME', 'HIS_CODE', 'DRUG_NAME', 'Base_unit']]"
   ]
  },
  {
   "cell_type": "code",
   "execution_count": 5,
   "metadata": {},
   "outputs": [
    {
     "data": {
      "text/html": [
       "<div>\n",
       "<style scoped>\n",
       "    .dataframe tbody tr th:only-of-type {\n",
       "        vertical-align: middle;\n",
       "    }\n",
       "\n",
       "    .dataframe tbody tr th {\n",
       "        vertical-align: top;\n",
       "    }\n",
       "\n",
       "    .dataframe thead th {\n",
       "        text-align: right;\n",
       "    }\n",
       "</style>\n",
       "<table border=\"1\" class=\"dataframe\">\n",
       "  <thead>\n",
       "    <tr style=\"text-align: right;\">\n",
       "      <th></th>\n",
       "      <th>GENERIC_NAME</th>\n",
       "      <th>HIS_CODE</th>\n",
       "      <th>DRUG_NAME</th>\n",
       "      <th>Base_unit</th>\n",
       "    </tr>\n",
       "  </thead>\n",
       "  <tbody>\n",
       "    <tr>\n",
       "      <th>0</th>\n",
       "      <td>Acarbose</td>\n",
       "      <td>GLUTB1</td>\n",
       "      <td>Acarbose Tab 100 mg [Glucobay]</td>\n",
       "      <td>TAB</td>\n",
       "    </tr>\n",
       "    <tr>\n",
       "      <th>1</th>\n",
       "      <td>Acarbose</td>\n",
       "      <td>GLUTB5</td>\n",
       "      <td>Acarbose Tab  50 mg [Glucobay]</td>\n",
       "      <td>TAB</td>\n",
       "    </tr>\n",
       "    <tr>\n",
       "      <th>2</th>\n",
       "      <td>Exenatide</td>\n",
       "      <td>BYEI10</td>\n",
       "      <td>Exenatide Prefilled Pen 10 mcg 60 D [Byetta]</td>\n",
       "      <td>Vial/amp</td>\n",
       "    </tr>\n",
       "    <tr>\n",
       "      <th>3</th>\n",
       "      <td>Glibenclamide (Glyburide)</td>\n",
       "      <td>DAOT</td>\n",
       "      <td>Glibenclamide Tab 5 mg [Daonil]</td>\n",
       "      <td>TAB</td>\n",
       "    </tr>\n",
       "    <tr>\n",
       "      <th>4</th>\n",
       "      <td>Glibenclamide (Glyburide)</td>\n",
       "      <td>GLITB</td>\n",
       "      <td>Glibenclamide Tab 5 mg [Diabenol]</td>\n",
       "      <td>TAB</td>\n",
       "    </tr>\n",
       "    <tr>\n",
       "      <th>...</th>\n",
       "      <td>...</td>\n",
       "      <td>...</td>\n",
       "      <td>...</td>\n",
       "      <td>...</td>\n",
       "    </tr>\n",
       "    <tr>\n",
       "      <th>138</th>\n",
       "      <td>Semaglutide</td>\n",
       "      <td>RYBT7</td>\n",
       "      <td>Semaglutide Tab 7 mg [Rybelsus]</td>\n",
       "      <td>TAB</td>\n",
       "    </tr>\n",
       "    <tr>\n",
       "      <th>139</th>\n",
       "      <td>Semaglutide</td>\n",
       "      <td>RYBT14</td>\n",
       "      <td>Semaglutide Tab 14 mg [Rybelsus]</td>\n",
       "      <td>TAB</td>\n",
       "    </tr>\n",
       "    <tr>\n",
       "      <th>140</th>\n",
       "      <td>Teneligliptin</td>\n",
       "      <td>TENT20</td>\n",
       "      <td>Teneligliptin Tab 20 mg [Tenelia]</td>\n",
       "      <td>TAB</td>\n",
       "    </tr>\n",
       "    <tr>\n",
       "      <th>141</th>\n",
       "      <td>Evogliptin</td>\n",
       "      <td>SUGT5</td>\n",
       "      <td>Evogliptin Tab 5 mg [Suganon]</td>\n",
       "      <td>TAB</td>\n",
       "    </tr>\n",
       "    <tr>\n",
       "      <th>142</th>\n",
       "      <td>Gemigliptin and Metformin</td>\n",
       "      <td>ZEMTM</td>\n",
       "      <td>Gemigliptin+Metformin SR Tab 50/1000 mg [Zemim...</td>\n",
       "      <td>TAB</td>\n",
       "    </tr>\n",
       "  </tbody>\n",
       "</table>\n",
       "<p>143 rows × 4 columns</p>\n",
       "</div>"
      ],
      "text/plain": [
       "                  GENERIC_NAME HIS_CODE  \\\n",
       "0                     Acarbose   GLUTB1   \n",
       "1                     Acarbose   GLUTB5   \n",
       "2                    Exenatide   BYEI10   \n",
       "3    Glibenclamide (Glyburide)     DAOT   \n",
       "4    Glibenclamide (Glyburide)    GLITB   \n",
       "..                         ...      ...   \n",
       "138                Semaglutide    RYBT7   \n",
       "139                Semaglutide   RYBT14   \n",
       "140              Teneligliptin   TENT20   \n",
       "141                 Evogliptin    SUGT5   \n",
       "142  Gemigliptin and Metformin    ZEMTM   \n",
       "\n",
       "                                             DRUG_NAME Base_unit  \n",
       "0                       Acarbose Tab 100 mg [Glucobay]       TAB  \n",
       "1                       Acarbose Tab  50 mg [Glucobay]       TAB  \n",
       "2         Exenatide Prefilled Pen 10 mcg 60 D [Byetta]  Vial/amp  \n",
       "3                      Glibenclamide Tab 5 mg [Daonil]       TAB  \n",
       "4                    Glibenclamide Tab 5 mg [Diabenol]       TAB  \n",
       "..                                                 ...       ...  \n",
       "138                    Semaglutide Tab 7 mg [Rybelsus]       TAB  \n",
       "139                   Semaglutide Tab 14 mg [Rybelsus]       TAB  \n",
       "140                  Teneligliptin Tab 20 mg [Tenelia]       TAB  \n",
       "141                      Evogliptin Tab 5 mg [Suganon]       TAB  \n",
       "142  Gemigliptin+Metformin SR Tab 50/1000 mg [Zemim...       TAB  \n",
       "\n",
       "[143 rows x 4 columns]"
      ]
     },
     "execution_count": 5,
     "metadata": {},
     "output_type": "execute_result"
    }
   ],
   "source": [
    "df"
   ]
  },
  {
   "cell_type": "code",
   "execution_count": 6,
   "metadata": {},
   "outputs": [
    {
     "data": {
      "text/plain": [
       "array(['GLUTB1', 'GLUTB5', 'BYEI10', 'DAOT', 'GLITB', 'GLITBC', 'DIATM',\n",
       "       'DIATM3', 'DIATM60', 'GLITC', 'GLITCM3', 'GLITCM6', 'GLITD80',\n",
       "       'GLITG80', 'AMAT2', 'AMAT3', 'AMAT4', 'GLITD2', 'GLITD4', 'GLITG2',\n",
       "       'GLITL2', 'GLITL3', 'GLITL4', 'GLIT', 'GLITP5', 'MINT5', 'GLUTR',\n",
       "       'NOVIR1', 'NOVIM1', 'NOVIMF', 'LEVIL', 'LANIC', 'LANIT', 'SEMI',\n",
       "       'TOUI', 'APIIP', 'APRIP', 'BIOIN', 'GENIN', 'GENINC', 'HUMIN',\n",
       "       'HUMINC1', 'INSI', 'INSIC1', 'WININ10', 'HUMILC1', 'HUMIM5',\n",
       "       'HUMIMC1', 'ACTIC1', 'ACTIPH', 'BIOIR', 'GENIR', 'GENIRC', 'HUMIR',\n",
       "       'WINIR10', 'BIOIM', 'GENIM', 'GENIMC', 'GENIMC50', 'HUMI7',\n",
       "       'HUMIC1', 'MIXI', 'MIXIP1', 'WINIM10', 'GLUT5', 'GLUT8', 'GLUTXR',\n",
       "       'GLUTXR1', 'METTDE1', 'METTDE75', 'METTF', 'METTF8', 'METTFM5',\n",
       "       'METTFM8', 'GLUTV505', 'GLUTV525', 'ACTTM15', 'AVATM', 'JANTM50',\n",
       "       'JANTM5010', 'JANTMX5', 'JANTMX10', 'ACTTO1', 'ACTTO3', 'ACTTO45',\n",
       "       'PIOT15', 'PIOT30', 'NOVT1', 'NOVT2', 'NOVT5', 'AVAT4', 'AVAT8',\n",
       "       'ONGT5', 'JANT1', 'JANT5', 'GALT5', 'VILTD', 'BAST2', 'BAST3',\n",
       "       'SAXI', 'VICIP18', 'GALTM500', 'GALTM1000', 'TRATJ5', 'KOMT2',\n",
       "       'KOMT5', 'AMATM', 'TRATD251', 'TRATD255', 'FORT10', 'NEST',\n",
       "       'OSET2515', 'OSET2530', 'JART10', 'JART25', 'TREIS', 'JARTD5',\n",
       "       'JARTD125', 'INVT100', 'INVT300', 'LUST5', 'LUST25', 'XIGT5',\n",
       "       'XIGT10', 'ZEMT', 'GLYT10', 'GLYT25', 'RYZI', 'TRUI15', 'TRUI75',\n",
       "       'XULI', 'SOLIQ33', 'SOLIQ50', 'ZAFT', 'OZEI1', 'OZEI05', 'OZEI025',\n",
       "       'RYBT3', 'RYBT7', 'RYBT14', 'TENT20', 'SUGT5', 'ZEMTM'],\n",
       "      dtype=object)"
      ]
     },
     "execution_count": 6,
     "metadata": {},
     "output_type": "execute_result"
    }
   ],
   "source": [
    "df['HIS_CODE'].values"
   ]
  },
  {
   "cell_type": "code",
   "execution_count": 7,
   "metadata": {},
   "outputs": [
    {
     "data": {
      "text/plain": [
       "array(['Acarbose', 'Acarbose', 'Exenatide', 'Glibenclamide (Glyburide)',\n",
       "       'Glibenclamide (Glyburide)', 'Glibenclamide (Glyburide)',\n",
       "       'Gliclazide', 'Gliclazide', 'Gliclazide', 'Gliclazide',\n",
       "       'Gliclazide', 'Gliclazide', 'Gliclazide', 'Gliclazide',\n",
       "       'Glimepiride', 'Glimepiride', 'Glimepiride', 'Glimepiride',\n",
       "       'Glimepiride', 'Glimepiride', 'Glimepiride', 'Glimepiride',\n",
       "       'Glimepiride', 'Glipizide', 'Glipizide', 'Glipizide', 'Gliquidone',\n",
       "       'Insulin aspart', 'Insulin aspart, Insulin aspart protamine',\n",
       "       'Insulin aspart, Insulin aspart protamine', 'Insulin detemir',\n",
       "       'Insulin glargine', 'Insulin glargine', 'Insulin glargine',\n",
       "       'Insulin glargine', 'Insulin glulisine', 'Insulin glulisine',\n",
       "       'Insulin isophane', 'Insulin isophane', 'Insulin isophane',\n",
       "       'Insulin isophane', 'Insulin isophane', 'Insulin isophane',\n",
       "       'Insulin isophane', 'Insulin isophane', 'Insulin lispro',\n",
       "       'Insulin lispro, Insulin lispro protamine',\n",
       "       'Insulin lispro, Insulin lispro protamine', 'Insulin regular',\n",
       "       'Insulin regular', 'Insulin regular', 'Insulin regular',\n",
       "       'Insulin regular', 'Insulin regular', 'Insulin regular',\n",
       "       'Insulin regular and Insulin isophane',\n",
       "       'Insulin regular and Insulin isophane',\n",
       "       'Insulin regular and Insulin isophane',\n",
       "       'Insulin regular and Insulin isophane',\n",
       "       'Insulin regular and Insulin isophane',\n",
       "       'Insulin regular and Insulin isophane',\n",
       "       'Insulin regular and Insulin isophane',\n",
       "       'Insulin regular and Insulin isophane',\n",
       "       'Insulin regular and Insulin isophane', 'Metformin', 'Metformin',\n",
       "       'Metformin', 'Metformin', 'Metformin', 'Metformin', 'Metformin',\n",
       "       'Metformin', 'Metformin', 'Metformin',\n",
       "       'Metformin and Glibenclamide', 'Metformin and Glibenclamide',\n",
       "       'Metformin and Pioglitazone', 'Metformin and Rosiglitazone',\n",
       "       'Metformin and Sitagliptin', 'Metformin and Sitagliptin',\n",
       "       'Metformin and Sitagliptin', 'Metformin and Sitagliptin',\n",
       "       'Pioglitazone', 'Pioglitazone', 'Pioglitazone', 'Pioglitazone',\n",
       "       'Pioglitazone', 'Repaglinide', 'Repaglinide', 'Repaglinide',\n",
       "       'Rosiglitazone', 'Rosiglitazone', 'Saxagliptin', 'Sitagliptin',\n",
       "       'Sitagliptin', 'Vildagliptin', 'Vildagliptin', 'Voglibose',\n",
       "       'Voglibose', 'Liraglutide', 'Liraglutide',\n",
       "       'Metformin and Vildagliptin', 'Metformin and Vildagliptin',\n",
       "       'Linagliptin', 'Metformin and Saxagliptin',\n",
       "       'Metformin and Saxagliptin', 'Metformin and Glimepiride',\n",
       "       'Metformin and Linagliptin', 'Metformin and Linagliptin',\n",
       "       'Dapagliflozin', 'Alogliptin', 'Alogliptin and Pioglitazone',\n",
       "       'Alogliptin and Pioglitazone', 'Empagliflozin', 'Empagliflozin',\n",
       "       'Insulin degludec', 'Empagliflozin and Metformin',\n",
       "       'Empagliflozin and Metformin', 'Canagliflozin', 'Canagliflozin',\n",
       "       'Luseogliflozin', 'Luseogliflozin', 'Dapagliflozin and Metformin',\n",
       "       'Dapagliflozin and Metformin', 'Gemigliptin',\n",
       "       'Empagliflozin and Linagliptin', 'Empagliflozin and Linagliptin',\n",
       "       'Insulin degludec, Insulin aspart', 'Dulaglutide', 'Dulaglutide',\n",
       "       'Insulin Degludec and Liraglutide',\n",
       "       'Insulin glargine and Lixisenatide',\n",
       "       'Insulin glargine and Lixisenatide', 'Trelagliptin Succinate',\n",
       "       'Semaglutide', 'Semaglutide', 'Semaglutide', 'Semaglutide',\n",
       "       'Semaglutide', 'Semaglutide', 'Teneligliptin', 'Evogliptin',\n",
       "       'Gemigliptin and Metformin'], dtype=object)"
      ]
     },
     "execution_count": 7,
     "metadata": {},
     "output_type": "execute_result"
    }
   ],
   "source": [
    "df['GENERIC_NAME'].values"
   ]
  }
 ],
 "metadata": {
  "kernelspec": {
   "display_name": "Python 3",
   "language": "python",
   "name": "python3"
  },
  "language_info": {
   "codemirror_mode": {
    "name": "ipython",
    "version": 3
   },
   "file_extension": ".py",
   "mimetype": "text/x-python",
   "name": "python",
   "nbconvert_exporter": "python",
   "pygments_lexer": "ipython3",
   "version": "3.10.13"
  }
 },
 "nbformat": 4,
 "nbformat_minor": 2
}
