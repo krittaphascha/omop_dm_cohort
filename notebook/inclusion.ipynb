{
 "cells": [
  {
   "cell_type": "code",
   "execution_count": 36,
   "metadata": {},
   "outputs": [],
   "source": [
    "import pandas as pd\n",
    "import sqlalchemy as sal\n",
    "from dotenv import load_dotenv\n",
    "import os\n",
    "load_dotenv()\n",
    "\n",
    "# Create a connection to the database\n",
    "server_database = os.getenv(\"SERVER_DATABASE\")\n",
    "engine = sal.create_engine(f'mssql+pyodbc://@{server_database}?trusted_connection=yes&driver=SQL+Server')\n",
    "conn = engine.connect()"
   ]
  },
  {
   "cell_type": "markdown",
   "metadata": {},
   "source": [
    "### Diagnosis criteria"
   ]
  },
  {
   "cell_type": "markdown",
   "metadata": {},
   "source": []
  },
  {
   "cell_type": "code",
   "execution_count": 37,
   "metadata": {},
   "outputs": [
    {
     "name": "stdout",
     "output_type": "stream",
     "text": [
      "Number of patients included by OMOP concept IDs: 155703\n"
     ]
    }
   ],
   "source": [
    "with open('..\\sql\\inclusion\\icd.sql') as file:\n",
    "    sql_command = file.read()\n",
    "    pt_icd = pd.read_sql(sql_command, conn)\n",
    "    file.close()\n",
    "\n",
    "print(\"Number of patients included by OMOP concept IDs:\",len(pt_icd))"
   ]
  },
  {
   "cell_type": "code",
   "execution_count": 38,
   "metadata": {},
   "outputs": [
    {
     "data": {
      "text/html": [
       "<div>\n",
       "<style scoped>\n",
       "    .dataframe tbody tr th:only-of-type {\n",
       "        vertical-align: middle;\n",
       "    }\n",
       "\n",
       "    .dataframe tbody tr th {\n",
       "        vertical-align: top;\n",
       "    }\n",
       "\n",
       "    .dataframe thead th {\n",
       "        text-align: right;\n",
       "    }\n",
       "</style>\n",
       "<table border=\"1\" class=\"dataframe\">\n",
       "  <thead>\n",
       "    <tr style=\"text-align: right;\">\n",
       "      <th></th>\n",
       "      <th>person_id</th>\n",
       "      <th>condition_concept_id</th>\n",
       "      <th>first_diag</th>\n",
       "      <th>age_at_first_diag</th>\n",
       "    </tr>\n",
       "  </thead>\n",
       "  <tbody>\n",
       "    <tr>\n",
       "      <th>0</th>\n",
       "      <td>4333959</td>\n",
       "      <td>4193704</td>\n",
       "      <td>2020-07-24</td>\n",
       "      <td>68</td>\n",
       "    </tr>\n",
       "    <tr>\n",
       "      <th>1</th>\n",
       "      <td>4333969</td>\n",
       "      <td>4193704</td>\n",
       "      <td>2020-06-06</td>\n",
       "      <td>66</td>\n",
       "    </tr>\n",
       "    <tr>\n",
       "      <th>2</th>\n",
       "      <td>4334053</td>\n",
       "      <td>4193704</td>\n",
       "      <td>2020-05-01</td>\n",
       "      <td>76</td>\n",
       "    </tr>\n",
       "    <tr>\n",
       "      <th>3</th>\n",
       "      <td>4332902</td>\n",
       "      <td>4193704</td>\n",
       "      <td>2021-01-14</td>\n",
       "      <td>69</td>\n",
       "    </tr>\n",
       "    <tr>\n",
       "      <th>4</th>\n",
       "      <td>4333055</td>\n",
       "      <td>4193704</td>\n",
       "      <td>2020-06-19</td>\n",
       "      <td>66</td>\n",
       "    </tr>\n",
       "  </tbody>\n",
       "</table>\n",
       "</div>"
      ],
      "text/plain": [
       "   person_id  condition_concept_id first_diag  age_at_first_diag\n",
       "0    4333959               4193704 2020-07-24                 68\n",
       "1    4333969               4193704 2020-06-06                 66\n",
       "2    4334053               4193704 2020-05-01                 76\n",
       "3    4332902               4193704 2021-01-14                 69\n",
       "4    4333055               4193704 2020-06-19                 66"
      ]
     },
     "execution_count": 38,
     "metadata": {},
     "output_type": "execute_result"
    }
   ],
   "source": [
    "pt_icd.head()"
   ]
  },
  {
   "cell_type": "markdown",
   "metadata": {},
   "source": [
    "### Lab Criteria"
   ]
  },
  {
   "cell_type": "code",
   "execution_count": 39,
   "metadata": {},
   "outputs": [
    {
     "name": "stdout",
     "output_type": "stream",
     "text": [
      "Number of patients included by lab criteria: 78209\n"
     ]
    }
   ],
   "source": [
    "with open('..\\sql\\inclusion\\lab.sql') as file:\n",
    "    sql_command = file.read()\n",
    "    pt_lab = pd.read_sql(sql_command, conn)\n",
    "    file.close()\n",
    "print(\"Number of patients included by lab criteria:\",len(pt_lab))"
   ]
  },
  {
   "cell_type": "code",
   "execution_count": 40,
   "metadata": {},
   "outputs": [
    {
     "data": {
      "text/html": [
       "<div>\n",
       "<style scoped>\n",
       "    .dataframe tbody tr th:only-of-type {\n",
       "        vertical-align: middle;\n",
       "    }\n",
       "\n",
       "    .dataframe tbody tr th {\n",
       "        vertical-align: top;\n",
       "    }\n",
       "\n",
       "    .dataframe thead th {\n",
       "        text-align: right;\n",
       "    }\n",
       "</style>\n",
       "<table border=\"1\" class=\"dataframe\">\n",
       "  <thead>\n",
       "    <tr style=\"text-align: right;\">\n",
       "      <th></th>\n",
       "      <th>person_id</th>\n",
       "      <th>first_diag_datetime</th>\n",
       "    </tr>\n",
       "  </thead>\n",
       "  <tbody>\n",
       "    <tr>\n",
       "      <th>0</th>\n",
       "      <td>1771964</td>\n",
       "      <td>2020-10-07 08:58:05</td>\n",
       "    </tr>\n",
       "    <tr>\n",
       "      <th>1</th>\n",
       "      <td>1013345</td>\n",
       "      <td>2016-08-01 16:49:28</td>\n",
       "    </tr>\n",
       "    <tr>\n",
       "      <th>2</th>\n",
       "      <td>964117</td>\n",
       "      <td>2018-06-25 09:13:30</td>\n",
       "    </tr>\n",
       "    <tr>\n",
       "      <th>3</th>\n",
       "      <td>2454983</td>\n",
       "      <td>2015-10-27 09:03:03</td>\n",
       "    </tr>\n",
       "    <tr>\n",
       "      <th>4</th>\n",
       "      <td>1271914</td>\n",
       "      <td>2015-11-03 09:03:06</td>\n",
       "    </tr>\n",
       "    <tr>\n",
       "      <th>...</th>\n",
       "      <td>...</td>\n",
       "      <td>...</td>\n",
       "    </tr>\n",
       "    <tr>\n",
       "      <th>78204</th>\n",
       "      <td>1160121</td>\n",
       "      <td>2017-03-22 07:48:36</td>\n",
       "    </tr>\n",
       "    <tr>\n",
       "      <th>78205</th>\n",
       "      <td>2163929</td>\n",
       "      <td>2018-01-19 07:20:52</td>\n",
       "    </tr>\n",
       "    <tr>\n",
       "      <th>78206</th>\n",
       "      <td>2302831</td>\n",
       "      <td>2019-02-23 07:41:25</td>\n",
       "    </tr>\n",
       "    <tr>\n",
       "      <th>78207</th>\n",
       "      <td>3447093</td>\n",
       "      <td>2019-06-07 08:34:25</td>\n",
       "    </tr>\n",
       "    <tr>\n",
       "      <th>78208</th>\n",
       "      <td>4662412</td>\n",
       "      <td>2022-08-11 09:12:42</td>\n",
       "    </tr>\n",
       "  </tbody>\n",
       "</table>\n",
       "<p>78209 rows × 2 columns</p>\n",
       "</div>"
      ],
      "text/plain": [
       "       person_id first_diag_datetime\n",
       "0        1771964 2020-10-07 08:58:05\n",
       "1        1013345 2016-08-01 16:49:28\n",
       "2         964117 2018-06-25 09:13:30\n",
       "3        2454983 2015-10-27 09:03:03\n",
       "4        1271914 2015-11-03 09:03:06\n",
       "...          ...                 ...\n",
       "78204    1160121 2017-03-22 07:48:36\n",
       "78205    2163929 2018-01-19 07:20:52\n",
       "78206    2302831 2019-02-23 07:41:25\n",
       "78207    3447093 2019-06-07 08:34:25\n",
       "78208    4662412 2022-08-11 09:12:42\n",
       "\n",
       "[78209 rows x 2 columns]"
      ]
     },
     "execution_count": 40,
     "metadata": {},
     "output_type": "execute_result"
    }
   ],
   "source": [
    "pt_lab"
   ]
  },
  {
   "cell_type": "markdown",
   "metadata": {},
   "source": [
    "### Drug Criteria"
   ]
  },
  {
   "cell_type": "code",
   "execution_count": 41,
   "metadata": {},
   "outputs": [
    {
     "name": "stdout",
     "output_type": "stream",
     "text": [
      "Number of patients included by drug criteria: 91501\n"
     ]
    }
   ],
   "source": [
    "with open('..\\sql\\inclusion\\drug.sql') as file:\n",
    "    sql_command = file.read()\n",
    "    pt_drug = pd.read_sql(sql_command, conn)\n",
    "    file.close()\n",
    "print(\"Number of patients included by drug criteria:\",len(pt_drug))"
   ]
  },
  {
   "cell_type": "code",
   "execution_count": 42,
   "metadata": {},
   "outputs": [
    {
     "data": {
      "text/html": [
       "<div>\n",
       "<style scoped>\n",
       "    .dataframe tbody tr th:only-of-type {\n",
       "        vertical-align: middle;\n",
       "    }\n",
       "\n",
       "    .dataframe tbody tr th {\n",
       "        vertical-align: top;\n",
       "    }\n",
       "\n",
       "    .dataframe thead th {\n",
       "        text-align: right;\n",
       "    }\n",
       "</style>\n",
       "<table border=\"1\" class=\"dataframe\">\n",
       "  <thead>\n",
       "    <tr style=\"text-align: right;\">\n",
       "      <th></th>\n",
       "      <th>person_id</th>\n",
       "      <th>drug_source_value</th>\n",
       "      <th>first_drug_start_date</th>\n",
       "      <th>age_at_first_drug</th>\n",
       "    </tr>\n",
       "  </thead>\n",
       "  <tbody>\n",
       "    <tr>\n",
       "      <th>0</th>\n",
       "      <td>4277315</td>\n",
       "      <td>PIOT15</td>\n",
       "      <td>2022-09-29</td>\n",
       "      <td>67.0</td>\n",
       "    </tr>\n",
       "    <tr>\n",
       "      <th>1</th>\n",
       "      <td>4368800</td>\n",
       "      <td>METTFM5</td>\n",
       "      <td>2020-11-10</td>\n",
       "      <td>65.0</td>\n",
       "    </tr>\n",
       "    <tr>\n",
       "      <th>2</th>\n",
       "      <td>4466898</td>\n",
       "      <td>METTFM5</td>\n",
       "      <td>2021-08-20</td>\n",
       "      <td>66.0</td>\n",
       "    </tr>\n",
       "    <tr>\n",
       "      <th>3</th>\n",
       "      <td>4612063</td>\n",
       "      <td>GLITP5</td>\n",
       "      <td>2022-05-31</td>\n",
       "      <td>67.0</td>\n",
       "    </tr>\n",
       "    <tr>\n",
       "      <th>4</th>\n",
       "      <td>4644683</td>\n",
       "      <td>AMAT3</td>\n",
       "      <td>2022-06-18</td>\n",
       "      <td>67.0</td>\n",
       "    </tr>\n",
       "    <tr>\n",
       "      <th>...</th>\n",
       "      <td>...</td>\n",
       "      <td>...</td>\n",
       "      <td>...</td>\n",
       "      <td>...</td>\n",
       "    </tr>\n",
       "    <tr>\n",
       "      <th>91496</th>\n",
       "      <td>2071268</td>\n",
       "      <td>HUMIC1</td>\n",
       "      <td>2015-06-13</td>\n",
       "      <td>71.0</td>\n",
       "    </tr>\n",
       "    <tr>\n",
       "      <th>91497</th>\n",
       "      <td>2377243</td>\n",
       "      <td>DIATM60</td>\n",
       "      <td>2013-09-17</td>\n",
       "      <td>48.0</td>\n",
       "    </tr>\n",
       "    <tr>\n",
       "      <th>91498</th>\n",
       "      <td>2470473</td>\n",
       "      <td>JARTD5</td>\n",
       "      <td>2018-11-29</td>\n",
       "      <td>63.0</td>\n",
       "    </tr>\n",
       "    <tr>\n",
       "      <th>91499</th>\n",
       "      <td>2848177</td>\n",
       "      <td>GLIT</td>\n",
       "      <td>2013-06-27</td>\n",
       "      <td>68.0</td>\n",
       "    </tr>\n",
       "    <tr>\n",
       "      <th>91500</th>\n",
       "      <td>2908902</td>\n",
       "      <td>METTF</td>\n",
       "      <td>2013-12-09</td>\n",
       "      <td>47.0</td>\n",
       "    </tr>\n",
       "  </tbody>\n",
       "</table>\n",
       "<p>91501 rows × 4 columns</p>\n",
       "</div>"
      ],
      "text/plain": [
       "       person_id drug_source_value first_drug_start_date  age_at_first_drug\n",
       "0        4277315            PIOT15            2022-09-29               67.0\n",
       "1        4368800           METTFM5            2020-11-10               65.0\n",
       "2        4466898           METTFM5            2021-08-20               66.0\n",
       "3        4612063            GLITP5            2022-05-31               67.0\n",
       "4        4644683             AMAT3            2022-06-18               67.0\n",
       "...          ...               ...                   ...                ...\n",
       "91496    2071268            HUMIC1            2015-06-13               71.0\n",
       "91497    2377243           DIATM60            2013-09-17               48.0\n",
       "91498    2470473            JARTD5            2018-11-29               63.0\n",
       "91499    2848177              GLIT            2013-06-27               68.0\n",
       "91500    2908902             METTF            2013-12-09               47.0\n",
       "\n",
       "[91501 rows x 4 columns]"
      ]
     },
     "execution_count": 42,
     "metadata": {},
     "output_type": "execute_result"
    }
   ],
   "source": [
    "pt_drug"
   ]
  },
  {
   "cell_type": "markdown",
   "metadata": {},
   "source": [
    "### Merging all patient hn"
   ]
  },
  {
   "cell_type": "code",
   "execution_count": 43,
   "metadata": {},
   "outputs": [
    {
     "name": "stdout",
     "output_type": "stream",
     "text": [
      "Number of patients included by all criteria: 171242\n"
     ]
    },
    {
     "data": {
      "text/html": [
       "<div>\n",
       "<style scoped>\n",
       "    .dataframe tbody tr th:only-of-type {\n",
       "        vertical-align: middle;\n",
       "    }\n",
       "\n",
       "    .dataframe tbody tr th {\n",
       "        vertical-align: top;\n",
       "    }\n",
       "\n",
       "    .dataframe thead th {\n",
       "        text-align: right;\n",
       "    }\n",
       "</style>\n",
       "<table border=\"1\" class=\"dataframe\">\n",
       "  <thead>\n",
       "    <tr style=\"text-align: right;\">\n",
       "      <th></th>\n",
       "      <th>person_id</th>\n",
       "      <th>condition_concept_id</th>\n",
       "      <th>first_diag</th>\n",
       "      <th>age_at_first_diag</th>\n",
       "      <th>first_diag_datetime</th>\n",
       "      <th>drug_source_value</th>\n",
       "      <th>first_drug_start_date</th>\n",
       "      <th>age_at_first_drug</th>\n",
       "    </tr>\n",
       "  </thead>\n",
       "  <tbody>\n",
       "    <tr>\n",
       "      <th>0</th>\n",
       "      <td>0</td>\n",
       "      <td>NaN</td>\n",
       "      <td>NaT</td>\n",
       "      <td>NaN</td>\n",
       "      <td>2015-11-11 11:42:32</td>\n",
       "      <td>NaN</td>\n",
       "      <td>NaN</td>\n",
       "      <td>NaN</td>\n",
       "    </tr>\n",
       "    <tr>\n",
       "      <th>1</th>\n",
       "      <td>377893</td>\n",
       "      <td>NaN</td>\n",
       "      <td>NaT</td>\n",
       "      <td>NaN</td>\n",
       "      <td>2021-05-15 09:52:13</td>\n",
       "      <td>NaN</td>\n",
       "      <td>NaN</td>\n",
       "      <td>NaN</td>\n",
       "    </tr>\n",
       "    <tr>\n",
       "      <th>2</th>\n",
       "      <td>378094</td>\n",
       "      <td>4193704.0</td>\n",
       "      <td>2018-12-21</td>\n",
       "      <td>49.0</td>\n",
       "      <td>NaT</td>\n",
       "      <td>NaN</td>\n",
       "      <td>NaN</td>\n",
       "      <td>NaN</td>\n",
       "    </tr>\n",
       "    <tr>\n",
       "      <th>3</th>\n",
       "      <td>378195</td>\n",
       "      <td>4193704.0</td>\n",
       "      <td>2021-02-27</td>\n",
       "      <td>39.0</td>\n",
       "      <td>NaT</td>\n",
       "      <td>NaN</td>\n",
       "      <td>NaN</td>\n",
       "      <td>NaN</td>\n",
       "    </tr>\n",
       "    <tr>\n",
       "      <th>4</th>\n",
       "      <td>378311</td>\n",
       "      <td>4193704.0</td>\n",
       "      <td>2013-07-06</td>\n",
       "      <td>74.0</td>\n",
       "      <td>NaT</td>\n",
       "      <td>METTF</td>\n",
       "      <td>2013-07-21</td>\n",
       "      <td>74.0</td>\n",
       "    </tr>\n",
       "  </tbody>\n",
       "</table>\n",
       "</div>"
      ],
      "text/plain": [
       "   person_id  condition_concept_id first_diag  age_at_first_diag  \\\n",
       "0          0                   NaN        NaT                NaN   \n",
       "1     377893                   NaN        NaT                NaN   \n",
       "2     378094             4193704.0 2018-12-21               49.0   \n",
       "3     378195             4193704.0 2021-02-27               39.0   \n",
       "4     378311             4193704.0 2013-07-06               74.0   \n",
       "\n",
       "  first_diag_datetime drug_source_value first_drug_start_date  \\\n",
       "0 2015-11-11 11:42:32               NaN                   NaN   \n",
       "1 2021-05-15 09:52:13               NaN                   NaN   \n",
       "2                 NaT               NaN                   NaN   \n",
       "3                 NaT               NaN                   NaN   \n",
       "4                 NaT             METTF            2013-07-21   \n",
       "\n",
       "   age_at_first_drug  \n",
       "0                NaN  \n",
       "1                NaN  \n",
       "2                NaN  \n",
       "3                NaN  \n",
       "4               74.0  "
      ]
     },
     "execution_count": 43,
     "metadata": {},
     "output_type": "execute_result"
    }
   ],
   "source": [
    "all_data = pd.merge(pd.merge(pt_icd, pt_lab, on='person_id', how='outer'), pt_drug, on='person_id', how='outer')\n",
    "print(\"Number of patients included by all criteria:\",len(all_data))\n",
    "all_data.head()"
   ]
  },
  {
   "cell_type": "code",
   "execution_count": 44,
   "metadata": {},
   "outputs": [],
   "source": [
    "all_data['diag'] = (~all_data['condition_concept_id'].isna()).astype(int)\n",
    "all_data['lab'] = (~all_data['first_diag_datetime'].isna()).astype(int)\n",
    "all_data['drug'] = (~all_data['drug_source_value'].isna()).astype(int)"
   ]
  },
  {
   "cell_type": "code",
   "execution_count": 52,
   "metadata": {},
   "outputs": [],
   "source": [
    "all_data['first_drug_start_date'] = all_data['first_drug_start_date'].astype('datetime64[ns]')"
   ]
  },
  {
   "cell_type": "code",
   "execution_count": 53,
   "metadata": {},
   "outputs": [],
   "source": [
    "all_data['first_date'] = all_data[['first_diag', 'first_diag_datetime', 'first_drug_start_date']].min(axis=1)"
   ]
  },
  {
   "cell_type": "code",
   "execution_count": 55,
   "metadata": {},
   "outputs": [],
   "source": [
    "all_data = all_data[['person_id', 'diag', 'lab', 'drug', 'first_date']]"
   ]
  },
  {
   "cell_type": "code",
   "execution_count": 56,
   "metadata": {},
   "outputs": [
    {
     "data": {
      "text/html": [
       "<div>\n",
       "<style scoped>\n",
       "    .dataframe tbody tr th:only-of-type {\n",
       "        vertical-align: middle;\n",
       "    }\n",
       "\n",
       "    .dataframe tbody tr th {\n",
       "        vertical-align: top;\n",
       "    }\n",
       "\n",
       "    .dataframe thead th {\n",
       "        text-align: right;\n",
       "    }\n",
       "</style>\n",
       "<table border=\"1\" class=\"dataframe\">\n",
       "  <thead>\n",
       "    <tr style=\"text-align: right;\">\n",
       "      <th></th>\n",
       "      <th>person_id</th>\n",
       "      <th>diag</th>\n",
       "      <th>lab</th>\n",
       "      <th>drug</th>\n",
       "      <th>first_date</th>\n",
       "    </tr>\n",
       "  </thead>\n",
       "  <tbody>\n",
       "    <tr>\n",
       "      <th>0</th>\n",
       "      <td>0</td>\n",
       "      <td>0</td>\n",
       "      <td>1</td>\n",
       "      <td>0</td>\n",
       "      <td>2015-11-11 11:42:32</td>\n",
       "    </tr>\n",
       "    <tr>\n",
       "      <th>1</th>\n",
       "      <td>377893</td>\n",
       "      <td>0</td>\n",
       "      <td>1</td>\n",
       "      <td>0</td>\n",
       "      <td>2021-05-15 09:52:13</td>\n",
       "    </tr>\n",
       "    <tr>\n",
       "      <th>2</th>\n",
       "      <td>378094</td>\n",
       "      <td>1</td>\n",
       "      <td>0</td>\n",
       "      <td>0</td>\n",
       "      <td>2018-12-21 00:00:00</td>\n",
       "    </tr>\n",
       "    <tr>\n",
       "      <th>3</th>\n",
       "      <td>378195</td>\n",
       "      <td>1</td>\n",
       "      <td>0</td>\n",
       "      <td>0</td>\n",
       "      <td>2021-02-27 00:00:00</td>\n",
       "    </tr>\n",
       "    <tr>\n",
       "      <th>4</th>\n",
       "      <td>378311</td>\n",
       "      <td>1</td>\n",
       "      <td>0</td>\n",
       "      <td>1</td>\n",
       "      <td>2013-07-06 00:00:00</td>\n",
       "    </tr>\n",
       "    <tr>\n",
       "      <th>...</th>\n",
       "      <td>...</td>\n",
       "      <td>...</td>\n",
       "      <td>...</td>\n",
       "      <td>...</td>\n",
       "      <td>...</td>\n",
       "    </tr>\n",
       "    <tr>\n",
       "      <th>171237</th>\n",
       "      <td>4825363</td>\n",
       "      <td>0</td>\n",
       "      <td>0</td>\n",
       "      <td>1</td>\n",
       "      <td>2024-02-17 00:00:00</td>\n",
       "    </tr>\n",
       "    <tr>\n",
       "      <th>171238</th>\n",
       "      <td>4825466</td>\n",
       "      <td>0</td>\n",
       "      <td>0</td>\n",
       "      <td>1</td>\n",
       "      <td>2024-02-18 00:00:00</td>\n",
       "    </tr>\n",
       "    <tr>\n",
       "      <th>171239</th>\n",
       "      <td>4825638</td>\n",
       "      <td>0</td>\n",
       "      <td>0</td>\n",
       "      <td>1</td>\n",
       "      <td>2024-02-19 00:00:00</td>\n",
       "    </tr>\n",
       "    <tr>\n",
       "      <th>171240</th>\n",
       "      <td>4826969</td>\n",
       "      <td>0</td>\n",
       "      <td>0</td>\n",
       "      <td>1</td>\n",
       "      <td>2018-02-14 00:00:00</td>\n",
       "    </tr>\n",
       "    <tr>\n",
       "      <th>171241</th>\n",
       "      <td>4827663</td>\n",
       "      <td>0</td>\n",
       "      <td>0</td>\n",
       "      <td>1</td>\n",
       "      <td>2013-07-03 00:00:00</td>\n",
       "    </tr>\n",
       "  </tbody>\n",
       "</table>\n",
       "<p>171242 rows × 5 columns</p>\n",
       "</div>"
      ],
      "text/plain": [
       "        person_id  diag  lab  drug          first_date\n",
       "0               0     0    1     0 2015-11-11 11:42:32\n",
       "1          377893     0    1     0 2021-05-15 09:52:13\n",
       "2          378094     1    0     0 2018-12-21 00:00:00\n",
       "3          378195     1    0     0 2021-02-27 00:00:00\n",
       "4          378311     1    0     1 2013-07-06 00:00:00\n",
       "...           ...   ...  ...   ...                 ...\n",
       "171237    4825363     0    0     1 2024-02-17 00:00:00\n",
       "171238    4825466     0    0     1 2024-02-18 00:00:00\n",
       "171239    4825638     0    0     1 2024-02-19 00:00:00\n",
       "171240    4826969     0    0     1 2018-02-14 00:00:00\n",
       "171241    4827663     0    0     1 2013-07-03 00:00:00\n",
       "\n",
       "[171242 rows x 5 columns]"
      ]
     },
     "execution_count": 56,
     "metadata": {},
     "output_type": "execute_result"
    }
   ],
   "source": [
    "all_data"
   ]
  },
  {
   "cell_type": "code",
   "execution_count": 57,
   "metadata": {},
   "outputs": [
    {
     "name": "stderr",
     "output_type": "stream",
     "text": [
      "C:\\Users\\krittaphas.chi\\AppData\\Local\\Temp\\ipykernel_13016\\2553387721.py:7: SettingWithCopyWarning: \n",
      "A value is trying to be set on a copy of a slice from a DataFrame.\n",
      "Try using .loc[row_indexer,col_indexer] = value instead\n",
      "\n",
      "See the caveats in the documentation: https://pandas.pydata.org/pandas-docs/stable/user_guide/indexing.html#returning-a-view-versus-a-copy\n",
      "  all_data['criteria'] = result\n"
     ]
    }
   ],
   "source": [
    "dx = ['diag' if x == 1 else '' for x in all_data['diag']]\n",
    "lab =['lab' if x == 1 else '' for x in all_data['lab']]\n",
    "rx = ['drug' if x == 1 else '' for x in all_data['drug']]\n",
    "result = [i+' '+j+' '+k for i, j, k in zip(dx, lab, rx)]\n",
    "result = [x.strip().replace(' ', '+') for x in result]\n",
    "\n",
    "all_data['criteria'] = result\n"
   ]
  },
  {
   "cell_type": "code",
   "execution_count": 58,
   "metadata": {},
   "outputs": [
    {
     "data": {
      "text/plain": [
       "criteria\n",
       "diag             64709\n",
       "diag+lab+drug    61281\n",
       "diag++drug       20749\n",
       "diag+lab          8964\n",
       "drug              7575\n",
       "lab               6068\n",
       "lab+drug          1896\n",
       "Name: count, dtype: int64"
      ]
     },
     "execution_count": 58,
     "metadata": {},
     "output_type": "execute_result"
    }
   ],
   "source": [
    "all_data['criteria'].value_counts()"
   ]
  },
  {
   "cell_type": "code",
   "execution_count": 59,
   "metadata": {},
   "outputs": [],
   "source": [
    "all_data.to_csv('..\\data\\patient_list.csv', index=False)"
   ]
  },
  {
   "cell_type": "code",
   "execution_count": null,
   "metadata": {},
   "outputs": [],
   "source": []
  }
 ],
 "metadata": {
  "kernelspec": {
   "display_name": "Python 3",
   "language": "python",
   "name": "python3"
  },
  "language_info": {
   "codemirror_mode": {
    "name": "ipython",
    "version": 3
   },
   "file_extension": ".py",
   "mimetype": "text/x-python",
   "name": "python",
   "nbconvert_exporter": "python",
   "pygments_lexer": "ipython3",
   "version": "3.10.13"
  }
 },
 "nbformat": 4,
 "nbformat_minor": 2
}
