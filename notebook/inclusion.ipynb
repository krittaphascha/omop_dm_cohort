{
 "cells": [
  {
   "cell_type": "code",
   "execution_count": 27,
   "metadata": {},
   "outputs": [],
   "source": [
    "import pandas as pd\n",
    "import sqlalchemy as sal\n",
    "from dotenv import load_dotenv\n",
    "import os\n",
    "load_dotenv()\n",
    "\n",
    "# Create a connection to the database\n",
    "server_database = os.getenv(\"SERVER_DATABASE\")\n",
    "engine = sal.create_engine(f'mssql+pyodbc://@{server_database}?trusted_connection=yes&driver=SQL+Server')\n",
    "conn = engine.connect()"
   ]
  },
  {
   "cell_type": "markdown",
   "metadata": {},
   "source": [
    "### Diagnosis criteria"
   ]
  },
  {
   "cell_type": "code",
   "execution_count": 28,
   "metadata": {},
   "outputs": [
    {
     "name": "stdout",
     "output_type": "stream",
     "text": [
      "Number of patients included by OMOP concept IDs: 155703\n"
     ]
    }
   ],
   "source": [
    "with open('..\\sql\\inclusion\\icd.sql') as file:\n",
    "    sql_command = file.read()\n",
    "    pt_icd = pd.read_sql(sql_command, conn)\n",
    "    file.close()\n",
    "\n",
    "print(\"Number of patients included by OMOP concept IDs:\",len(pt_icd))"
   ]
  },
  {
   "cell_type": "code",
   "execution_count": 29,
   "metadata": {},
   "outputs": [
    {
     "data": {
      "text/html": [
       "<div>\n",
       "<style scoped>\n",
       "    .dataframe tbody tr th:only-of-type {\n",
       "        vertical-align: middle;\n",
       "    }\n",
       "\n",
       "    .dataframe tbody tr th {\n",
       "        vertical-align: top;\n",
       "    }\n",
       "\n",
       "    .dataframe thead th {\n",
       "        text-align: right;\n",
       "    }\n",
       "</style>\n",
       "<table border=\"1\" class=\"dataframe\">\n",
       "  <thead>\n",
       "    <tr style=\"text-align: right;\">\n",
       "      <th></th>\n",
       "      <th>person_id</th>\n",
       "      <th>condition_concept_id</th>\n",
       "      <th>first_diag</th>\n",
       "      <th>age_at_first_diag</th>\n",
       "    </tr>\n",
       "  </thead>\n",
       "  <tbody>\n",
       "    <tr>\n",
       "      <th>0</th>\n",
       "      <td>475514</td>\n",
       "      <td>4193704</td>\n",
       "      <td>2013-06-06</td>\n",
       "      <td>79</td>\n",
       "    </tr>\n",
       "    <tr>\n",
       "      <th>1</th>\n",
       "      <td>489684</td>\n",
       "      <td>4193704</td>\n",
       "      <td>2023-01-05</td>\n",
       "      <td>44</td>\n",
       "    </tr>\n",
       "    <tr>\n",
       "      <th>2</th>\n",
       "      <td>489754</td>\n",
       "      <td>4193704</td>\n",
       "      <td>2013-08-15</td>\n",
       "      <td>79</td>\n",
       "    </tr>\n",
       "    <tr>\n",
       "      <th>3</th>\n",
       "      <td>489777</td>\n",
       "      <td>4193704</td>\n",
       "      <td>2013-07-29</td>\n",
       "      <td>73</td>\n",
       "    </tr>\n",
       "    <tr>\n",
       "      <th>4</th>\n",
       "      <td>441954</td>\n",
       "      <td>4193704</td>\n",
       "      <td>2013-07-08</td>\n",
       "      <td>56</td>\n",
       "    </tr>\n",
       "  </tbody>\n",
       "</table>\n",
       "</div>"
      ],
      "text/plain": [
       "   person_id  condition_concept_id first_diag  age_at_first_diag\n",
       "0     475514               4193704 2013-06-06                 79\n",
       "1     489684               4193704 2023-01-05                 44\n",
       "2     489754               4193704 2013-08-15                 79\n",
       "3     489777               4193704 2013-07-29                 73\n",
       "4     441954               4193704 2013-07-08                 56"
      ]
     },
     "execution_count": 29,
     "metadata": {},
     "output_type": "execute_result"
    }
   ],
   "source": [
    "pt_icd.head()"
   ]
  },
  {
   "cell_type": "markdown",
   "metadata": {},
   "source": [
    "### Lab Criteria"
   ]
  },
  {
   "cell_type": "code",
   "execution_count": 30,
   "metadata": {},
   "outputs": [
    {
     "name": "stdout",
     "output_type": "stream",
     "text": [
      "Number of patients included by lab criteria: 78209\n"
     ]
    }
   ],
   "source": [
    "with open('..\\sql\\inclusion\\lab.sql') as file:\n",
    "    sql_command = file.read()\n",
    "    pt_lab = pd.read_sql(sql_command, conn)\n",
    "    file.close()\n",
    "print(\"Number of patients included by lab criteria:\",len(pt_lab))"
   ]
  },
  {
   "cell_type": "code",
   "execution_count": 31,
   "metadata": {},
   "outputs": [
    {
     "data": {
      "text/html": [
       "<div>\n",
       "<style scoped>\n",
       "    .dataframe tbody tr th:only-of-type {\n",
       "        vertical-align: middle;\n",
       "    }\n",
       "\n",
       "    .dataframe tbody tr th {\n",
       "        vertical-align: top;\n",
       "    }\n",
       "\n",
       "    .dataframe thead th {\n",
       "        text-align: right;\n",
       "    }\n",
       "</style>\n",
       "<table border=\"1\" class=\"dataframe\">\n",
       "  <thead>\n",
       "    <tr style=\"text-align: right;\">\n",
       "      <th></th>\n",
       "      <th>person_id</th>\n",
       "      <th>first_diag_datetime</th>\n",
       "    </tr>\n",
       "  </thead>\n",
       "  <tbody>\n",
       "    <tr>\n",
       "      <th>0</th>\n",
       "      <td>3409284</td>\n",
       "      <td>2016-10-04 09:11:50</td>\n",
       "    </tr>\n",
       "    <tr>\n",
       "      <th>1</th>\n",
       "      <td>2691902</td>\n",
       "      <td>2019-05-23 06:58:47</td>\n",
       "    </tr>\n",
       "    <tr>\n",
       "      <th>2</th>\n",
       "      <td>3625376</td>\n",
       "      <td>2016-01-26 17:12:26</td>\n",
       "    </tr>\n",
       "    <tr>\n",
       "      <th>3</th>\n",
       "      <td>965016</td>\n",
       "      <td>2016-04-25 07:40:08</td>\n",
       "    </tr>\n",
       "    <tr>\n",
       "      <th>4</th>\n",
       "      <td>2866895</td>\n",
       "      <td>2016-04-19 08:25:59</td>\n",
       "    </tr>\n",
       "    <tr>\n",
       "      <th>...</th>\n",
       "      <td>...</td>\n",
       "      <td>...</td>\n",
       "    </tr>\n",
       "    <tr>\n",
       "      <th>78204</th>\n",
       "      <td>1201706</td>\n",
       "      <td>2015-10-22 08:32:58</td>\n",
       "    </tr>\n",
       "    <tr>\n",
       "      <th>78205</th>\n",
       "      <td>3668015</td>\n",
       "      <td>2021-02-27 09:29:51</td>\n",
       "    </tr>\n",
       "    <tr>\n",
       "      <th>78206</th>\n",
       "      <td>4041356</td>\n",
       "      <td>2017-11-27 08:36:24</td>\n",
       "    </tr>\n",
       "    <tr>\n",
       "      <th>78207</th>\n",
       "      <td>3182938</td>\n",
       "      <td>2018-05-30 08:03:17</td>\n",
       "    </tr>\n",
       "    <tr>\n",
       "      <th>78208</th>\n",
       "      <td>1720866</td>\n",
       "      <td>2016-03-18 08:33:48</td>\n",
       "    </tr>\n",
       "  </tbody>\n",
       "</table>\n",
       "<p>78209 rows × 2 columns</p>\n",
       "</div>"
      ],
      "text/plain": [
       "       person_id first_diag_datetime\n",
       "0        3409284 2016-10-04 09:11:50\n",
       "1        2691902 2019-05-23 06:58:47\n",
       "2        3625376 2016-01-26 17:12:26\n",
       "3         965016 2016-04-25 07:40:08\n",
       "4        2866895 2016-04-19 08:25:59\n",
       "...          ...                 ...\n",
       "78204    1201706 2015-10-22 08:32:58\n",
       "78205    3668015 2021-02-27 09:29:51\n",
       "78206    4041356 2017-11-27 08:36:24\n",
       "78207    3182938 2018-05-30 08:03:17\n",
       "78208    1720866 2016-03-18 08:33:48\n",
       "\n",
       "[78209 rows x 2 columns]"
      ]
     },
     "execution_count": 31,
     "metadata": {},
     "output_type": "execute_result"
    }
   ],
   "source": [
    "pt_lab"
   ]
  },
  {
   "cell_type": "markdown",
   "metadata": {},
   "source": [
    "### Drug Criteria"
   ]
  },
  {
   "cell_type": "code",
   "execution_count": 32,
   "metadata": {},
   "outputs": [
    {
     "name": "stdout",
     "output_type": "stream",
     "text": [
      "Number of patients included by drug criteria: 89066\n"
     ]
    }
   ],
   "source": [
    "with open('..\\sql\\inclusion\\drug.sql') as file:\n",
    "    sql_command = file.read()\n",
    "    pt_drug = pd.read_sql(sql_command, conn)\n",
    "    file.close()\n",
    "print(\"Number of patients included by drug criteria:\",len(pt_drug))"
   ]
  },
  {
   "cell_type": "code",
   "execution_count": 33,
   "metadata": {},
   "outputs": [
    {
     "data": {
      "text/html": [
       "<div>\n",
       "<style scoped>\n",
       "    .dataframe tbody tr th:only-of-type {\n",
       "        vertical-align: middle;\n",
       "    }\n",
       "\n",
       "    .dataframe tbody tr th {\n",
       "        vertical-align: top;\n",
       "    }\n",
       "\n",
       "    .dataframe thead th {\n",
       "        text-align: right;\n",
       "    }\n",
       "</style>\n",
       "<table border=\"1\" class=\"dataframe\">\n",
       "  <thead>\n",
       "    <tr style=\"text-align: right;\">\n",
       "      <th></th>\n",
       "      <th>person_id</th>\n",
       "      <th>drug_source_value</th>\n",
       "      <th>first_drug_start_date</th>\n",
       "      <th>age_at_first_drug</th>\n",
       "    </tr>\n",
       "  </thead>\n",
       "  <tbody>\n",
       "    <tr>\n",
       "      <th>0</th>\n",
       "      <td>437794</td>\n",
       "      <td>GLIT</td>\n",
       "      <td>2020-02-06</td>\n",
       "      <td>74</td>\n",
       "    </tr>\n",
       "    <tr>\n",
       "      <th>1</th>\n",
       "      <td>564801</td>\n",
       "      <td>METTF</td>\n",
       "      <td>2015-09-21</td>\n",
       "      <td>79</td>\n",
       "    </tr>\n",
       "    <tr>\n",
       "      <th>2</th>\n",
       "      <td>564840</td>\n",
       "      <td>NOVIMF</td>\n",
       "      <td>2013-06-21</td>\n",
       "      <td>80</td>\n",
       "    </tr>\n",
       "    <tr>\n",
       "      <th>3</th>\n",
       "      <td>437926</td>\n",
       "      <td>GLUT5</td>\n",
       "      <td>2013-08-17</td>\n",
       "      <td>49</td>\n",
       "    </tr>\n",
       "    <tr>\n",
       "      <th>4</th>\n",
       "      <td>437994</td>\n",
       "      <td>JANTM50</td>\n",
       "      <td>2013-09-07</td>\n",
       "      <td>63</td>\n",
       "    </tr>\n",
       "    <tr>\n",
       "      <th>...</th>\n",
       "      <td>...</td>\n",
       "      <td>...</td>\n",
       "      <td>...</td>\n",
       "      <td>...</td>\n",
       "    </tr>\n",
       "    <tr>\n",
       "      <th>89061</th>\n",
       "      <td>4772155</td>\n",
       "      <td>TRATD255</td>\n",
       "      <td>2023-09-20</td>\n",
       "      <td>60</td>\n",
       "    </tr>\n",
       "    <tr>\n",
       "      <th>89062</th>\n",
       "      <td>4750920</td>\n",
       "      <td>GLITP5</td>\n",
       "      <td>2023-03-15</td>\n",
       "      <td>43</td>\n",
       "    </tr>\n",
       "    <tr>\n",
       "      <th>89063</th>\n",
       "      <td>4769447</td>\n",
       "      <td>DIATM60</td>\n",
       "      <td>2023-07-04</td>\n",
       "      <td>55</td>\n",
       "    </tr>\n",
       "    <tr>\n",
       "      <th>89064</th>\n",
       "      <td>4785966</td>\n",
       "      <td>GLITP5</td>\n",
       "      <td>2023-09-14</td>\n",
       "      <td>77</td>\n",
       "    </tr>\n",
       "    <tr>\n",
       "      <th>89065</th>\n",
       "      <td>4769933</td>\n",
       "      <td>METTFM5</td>\n",
       "      <td>2023-08-21</td>\n",
       "      <td>49</td>\n",
       "    </tr>\n",
       "  </tbody>\n",
       "</table>\n",
       "<p>89066 rows × 4 columns</p>\n",
       "</div>"
      ],
      "text/plain": [
       "       person_id drug_source_value first_drug_start_date  age_at_first_drug\n",
       "0         437794              GLIT            2020-02-06                 74\n",
       "1         564801             METTF            2015-09-21                 79\n",
       "2         564840            NOVIMF            2013-06-21                 80\n",
       "3         437926             GLUT5            2013-08-17                 49\n",
       "4         437994           JANTM50            2013-09-07                 63\n",
       "...          ...               ...                   ...                ...\n",
       "89061    4772155          TRATD255            2023-09-20                 60\n",
       "89062    4750920            GLITP5            2023-03-15                 43\n",
       "89063    4769447           DIATM60            2023-07-04                 55\n",
       "89064    4785966            GLITP5            2023-09-14                 77\n",
       "89065    4769933           METTFM5            2023-08-21                 49\n",
       "\n",
       "[89066 rows x 4 columns]"
      ]
     },
     "execution_count": 33,
     "metadata": {},
     "output_type": "execute_result"
    }
   ],
   "source": [
    "pt_drug"
   ]
  },
  {
   "cell_type": "markdown",
   "metadata": {},
   "source": [
    "### Merging all patient hn"
   ]
  },
  {
   "cell_type": "code",
   "execution_count": 45,
   "metadata": {},
   "outputs": [
    {
     "name": "stdout",
     "output_type": "stream",
     "text": [
      "Number of patients included by all criteria: 169642\n"
     ]
    },
    {
     "data": {
      "text/html": [
       "<div>\n",
       "<style scoped>\n",
       "    .dataframe tbody tr th:only-of-type {\n",
       "        vertical-align: middle;\n",
       "    }\n",
       "\n",
       "    .dataframe tbody tr th {\n",
       "        vertical-align: top;\n",
       "    }\n",
       "\n",
       "    .dataframe thead th {\n",
       "        text-align: right;\n",
       "    }\n",
       "</style>\n",
       "<table border=\"1\" class=\"dataframe\">\n",
       "  <thead>\n",
       "    <tr style=\"text-align: right;\">\n",
       "      <th></th>\n",
       "      <th>person_id</th>\n",
       "      <th>condition_concept_id</th>\n",
       "      <th>first_diag</th>\n",
       "      <th>age_at_first_diag</th>\n",
       "      <th>first_diag_datetime</th>\n",
       "      <th>drug_source_value</th>\n",
       "      <th>first_drug_start_date</th>\n",
       "      <th>age_at_first_drug</th>\n",
       "    </tr>\n",
       "  </thead>\n",
       "  <tbody>\n",
       "    <tr>\n",
       "      <th>0</th>\n",
       "      <td>0</td>\n",
       "      <td>NaN</td>\n",
       "      <td>NaT</td>\n",
       "      <td>NaN</td>\n",
       "      <td>2015-11-11 11:42:32</td>\n",
       "      <td>NaN</td>\n",
       "      <td>NaN</td>\n",
       "      <td>NaN</td>\n",
       "    </tr>\n",
       "    <tr>\n",
       "      <th>1</th>\n",
       "      <td>377893</td>\n",
       "      <td>NaN</td>\n",
       "      <td>NaT</td>\n",
       "      <td>NaN</td>\n",
       "      <td>2021-05-15 09:52:13</td>\n",
       "      <td>NaN</td>\n",
       "      <td>NaN</td>\n",
       "      <td>NaN</td>\n",
       "    </tr>\n",
       "    <tr>\n",
       "      <th>2</th>\n",
       "      <td>378094</td>\n",
       "      <td>4193704.0</td>\n",
       "      <td>2018-12-21</td>\n",
       "      <td>49.0</td>\n",
       "      <td>NaT</td>\n",
       "      <td>NaN</td>\n",
       "      <td>NaN</td>\n",
       "      <td>NaN</td>\n",
       "    </tr>\n",
       "    <tr>\n",
       "      <th>3</th>\n",
       "      <td>378195</td>\n",
       "      <td>4193704.0</td>\n",
       "      <td>2021-02-27</td>\n",
       "      <td>39.0</td>\n",
       "      <td>NaT</td>\n",
       "      <td>NaN</td>\n",
       "      <td>NaN</td>\n",
       "      <td>NaN</td>\n",
       "    </tr>\n",
       "    <tr>\n",
       "      <th>4</th>\n",
       "      <td>378311</td>\n",
       "      <td>4193704.0</td>\n",
       "      <td>2013-07-06</td>\n",
       "      <td>74.0</td>\n",
       "      <td>NaT</td>\n",
       "      <td>METTF</td>\n",
       "      <td>2013-07-21</td>\n",
       "      <td>74.0</td>\n",
       "    </tr>\n",
       "  </tbody>\n",
       "</table>\n",
       "</div>"
      ],
      "text/plain": [
       "   person_id  condition_concept_id first_diag  age_at_first_diag  \\\n",
       "0          0                   NaN        NaT                NaN   \n",
       "1     377893                   NaN        NaT                NaN   \n",
       "2     378094             4193704.0 2018-12-21               49.0   \n",
       "3     378195             4193704.0 2021-02-27               39.0   \n",
       "4     378311             4193704.0 2013-07-06               74.0   \n",
       "\n",
       "  first_diag_datetime drug_source_value first_drug_start_date  \\\n",
       "0 2015-11-11 11:42:32               NaN                   NaN   \n",
       "1 2021-05-15 09:52:13               NaN                   NaN   \n",
       "2                 NaT               NaN                   NaN   \n",
       "3                 NaT               NaN                   NaN   \n",
       "4                 NaT             METTF            2013-07-21   \n",
       "\n",
       "   age_at_first_drug  \n",
       "0                NaN  \n",
       "1                NaN  \n",
       "2                NaN  \n",
       "3                NaN  \n",
       "4               74.0  "
      ]
     },
     "execution_count": 45,
     "metadata": {},
     "output_type": "execute_result"
    }
   ],
   "source": [
    "all_data = pd.merge(pd.merge(pt_icd, pt_lab, on='person_id', how='outer'), pt_drug, on='person_id', how='outer')\n",
    "print(\"Number of patients included by all criteria:\",len(all_data))\n",
    "all_data.head()"
   ]
  },
  {
   "cell_type": "code",
   "execution_count": 35,
   "metadata": {},
   "outputs": [],
   "source": [
    "all_data['diag'] = (~all_data['condition_concept_id'].isna()).astype(int)\n",
    "all_data['lab'] = (~all_data['first_diag_datetime'].isna()).astype(int)\n",
    "all_data['drug'] = (~all_data['drug_source_value'].isna()).astype(int)"
   ]
  },
  {
   "cell_type": "code",
   "execution_count": 36,
   "metadata": {},
   "outputs": [],
   "source": [
    "all_data['first_drug_start_date'] = all_data['first_drug_start_date'].astype('datetime64[ns]')"
   ]
  },
  {
   "cell_type": "code",
   "execution_count": 37,
   "metadata": {},
   "outputs": [],
   "source": [
    "all_data['first_date'] = all_data[['first_diag', 'first_diag_datetime', 'first_drug_start_date']].min(axis=1)"
   ]
  },
  {
   "cell_type": "code",
   "execution_count": 38,
   "metadata": {},
   "outputs": [],
   "source": [
    "all_data = all_data[['person_id', 'diag', 'lab', 'drug', 'first_date']]"
   ]
  },
  {
   "cell_type": "code",
   "execution_count": 39,
   "metadata": {},
   "outputs": [],
   "source": [
    "# filter only pt. between June 2013 - Sep 2023\n",
    "all_data_filter = all_data[all_data['first_date'] >= '2013-06-01']\n",
    "all_data_filter = all_data_filter[all_data_filter['first_date'] <= '2023-09-30']"
   ]
  },
  {
   "cell_type": "code",
   "execution_count": 40,
   "metadata": {},
   "outputs": [
    {
     "data": {
      "text/html": [
       "<div>\n",
       "<style scoped>\n",
       "    .dataframe tbody tr th:only-of-type {\n",
       "        vertical-align: middle;\n",
       "    }\n",
       "\n",
       "    .dataframe tbody tr th {\n",
       "        vertical-align: top;\n",
       "    }\n",
       "\n",
       "    .dataframe thead th {\n",
       "        text-align: right;\n",
       "    }\n",
       "</style>\n",
       "<table border=\"1\" class=\"dataframe\">\n",
       "  <thead>\n",
       "    <tr style=\"text-align: right;\">\n",
       "      <th></th>\n",
       "      <th>person_id</th>\n",
       "      <th>diag</th>\n",
       "      <th>lab</th>\n",
       "      <th>drug</th>\n",
       "      <th>first_date</th>\n",
       "    </tr>\n",
       "  </thead>\n",
       "  <tbody>\n",
       "    <tr>\n",
       "      <th>0</th>\n",
       "      <td>0</td>\n",
       "      <td>0</td>\n",
       "      <td>1</td>\n",
       "      <td>0</td>\n",
       "      <td>2015-11-11 11:42:32</td>\n",
       "    </tr>\n",
       "    <tr>\n",
       "      <th>1</th>\n",
       "      <td>377893</td>\n",
       "      <td>0</td>\n",
       "      <td>1</td>\n",
       "      <td>0</td>\n",
       "      <td>2021-05-15 09:52:13</td>\n",
       "    </tr>\n",
       "    <tr>\n",
       "      <th>2</th>\n",
       "      <td>378094</td>\n",
       "      <td>1</td>\n",
       "      <td>0</td>\n",
       "      <td>0</td>\n",
       "      <td>2018-12-21 00:00:00</td>\n",
       "    </tr>\n",
       "    <tr>\n",
       "      <th>3</th>\n",
       "      <td>378195</td>\n",
       "      <td>1</td>\n",
       "      <td>0</td>\n",
       "      <td>0</td>\n",
       "      <td>2021-02-27 00:00:00</td>\n",
       "    </tr>\n",
       "    <tr>\n",
       "      <th>4</th>\n",
       "      <td>378311</td>\n",
       "      <td>1</td>\n",
       "      <td>0</td>\n",
       "      <td>1</td>\n",
       "      <td>2013-07-06 00:00:00</td>\n",
       "    </tr>\n",
       "    <tr>\n",
       "      <th>...</th>\n",
       "      <td>...</td>\n",
       "      <td>...</td>\n",
       "      <td>...</td>\n",
       "      <td>...</td>\n",
       "      <td>...</td>\n",
       "    </tr>\n",
       "    <tr>\n",
       "      <th>169637</th>\n",
       "      <td>4790220</td>\n",
       "      <td>1</td>\n",
       "      <td>0</td>\n",
       "      <td>0</td>\n",
       "      <td>2023-09-29 00:00:00</td>\n",
       "    </tr>\n",
       "    <tr>\n",
       "      <th>169638</th>\n",
       "      <td>4790276</td>\n",
       "      <td>1</td>\n",
       "      <td>0</td>\n",
       "      <td>0</td>\n",
       "      <td>2023-09-30 00:00:00</td>\n",
       "    </tr>\n",
       "    <tr>\n",
       "      <th>169639</th>\n",
       "      <td>4790308</td>\n",
       "      <td>1</td>\n",
       "      <td>0</td>\n",
       "      <td>0</td>\n",
       "      <td>2023-09-30 00:00:00</td>\n",
       "    </tr>\n",
       "    <tr>\n",
       "      <th>169640</th>\n",
       "      <td>4834464</td>\n",
       "      <td>0</td>\n",
       "      <td>0</td>\n",
       "      <td>1</td>\n",
       "      <td>2018-02-14 00:00:00</td>\n",
       "    </tr>\n",
       "    <tr>\n",
       "      <th>169641</th>\n",
       "      <td>4835160</td>\n",
       "      <td>0</td>\n",
       "      <td>0</td>\n",
       "      <td>1</td>\n",
       "      <td>2013-07-03 00:00:00</td>\n",
       "    </tr>\n",
       "  </tbody>\n",
       "</table>\n",
       "<p>169642 rows × 5 columns</p>\n",
       "</div>"
      ],
      "text/plain": [
       "        person_id  diag  lab  drug          first_date\n",
       "0               0     0    1     0 2015-11-11 11:42:32\n",
       "1          377893     0    1     0 2021-05-15 09:52:13\n",
       "2          378094     1    0     0 2018-12-21 00:00:00\n",
       "3          378195     1    0     0 2021-02-27 00:00:00\n",
       "4          378311     1    0     1 2013-07-06 00:00:00\n",
       "...           ...   ...  ...   ...                 ...\n",
       "169637    4790220     1    0     0 2023-09-29 00:00:00\n",
       "169638    4790276     1    0     0 2023-09-30 00:00:00\n",
       "169639    4790308     1    0     0 2023-09-30 00:00:00\n",
       "169640    4834464     0    0     1 2018-02-14 00:00:00\n",
       "169641    4835160     0    0     1 2013-07-03 00:00:00\n",
       "\n",
       "[169642 rows x 5 columns]"
      ]
     },
     "execution_count": 40,
     "metadata": {},
     "output_type": "execute_result"
    }
   ],
   "source": [
    "all_data_filter"
   ]
  },
  {
   "cell_type": "code",
   "execution_count": 46,
   "metadata": {},
   "outputs": [
    {
     "data": {
      "text/plain": [
       "169642"
      ]
     },
     "execution_count": 46,
     "metadata": {},
     "output_type": "execute_result"
    }
   ],
   "source": [
    "all_data_filter.person_id.nunique()"
   ]
  },
  {
   "cell_type": "code",
   "execution_count": 42,
   "metadata": {},
   "outputs": [],
   "source": [
    "dx = ['diag' if x == 1 else '' for x in all_data['diag']]\n",
    "lab =['lab' if x == 1 else '' for x in all_data['lab']]\n",
    "rx = ['drug' if x == 1 else '' for x in all_data['drug']]\n",
    "result = [i+' '+j+' '+k for i, j, k in zip(dx, lab, rx)]\n",
    "result = [x.strip().replace(' ', '+') for x in result]\n",
    "\n",
    "all_data_filter['criteria'] = result\n"
   ]
  },
  {
   "cell_type": "code",
   "execution_count": 43,
   "metadata": {},
   "outputs": [
    {
     "data": {
      "text/plain": [
       "criteria\n",
       "diag             65094\n",
       "diag+lab+drug    60973\n",
       "diag++drug       20364\n",
       "diag+lab          9272\n",
       "lab               6210\n",
       "drug              5975\n",
       "lab+drug          1754\n",
       "Name: count, dtype: int64"
      ]
     },
     "execution_count": 43,
     "metadata": {},
     "output_type": "execute_result"
    }
   ],
   "source": [
    "all_data_filter['criteria'].value_counts()"
   ]
  },
  {
   "cell_type": "code",
   "execution_count": 44,
   "metadata": {},
   "outputs": [],
   "source": [
    "all_data_filter.to_csv('..\\data\\patient_list_25mar24.csv', index=False)"
   ]
  }
 ],
 "metadata": {
  "kernelspec": {
   "display_name": "Python 3",
   "language": "python",
   "name": "python3"
  },
  "language_info": {
   "codemirror_mode": {
    "name": "ipython",
    "version": 3
   },
   "file_extension": ".py",
   "mimetype": "text/x-python",
   "name": "python",
   "nbconvert_exporter": "python",
   "pygments_lexer": "ipython3",
   "version": "3.10.13"
  }
 },
 "nbformat": 4,
 "nbformat_minor": 2
}
